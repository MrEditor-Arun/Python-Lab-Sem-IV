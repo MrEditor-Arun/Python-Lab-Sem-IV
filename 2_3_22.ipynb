{
  "nbformat": 4,
  "nbformat_minor": 0,
  "metadata": {
    "colab": {
      "name": "2.3.22.ipynb",
      "provenance": [],
      "toc_visible": true,
      "include_colab_link": true
    },
    "kernelspec": {
      "name": "python3",
      "display_name": "Python 3"
    },
    "language_info": {
      "name": "python"
    }
  },
  "cells": [
    {
      "cell_type": "markdown",
      "metadata": {
        "id": "view-in-github",
        "colab_type": "text"
      },
      "source": [
        "<a href=\"https://colab.research.google.com/github/MrEditor-Arun/Python-Lab-Sem-IV/blob/main/2_3_22.ipynb\" target=\"_parent\"><img src=\"https://colab.research.google.com/assets/colab-badge.svg\" alt=\"Open In Colab\"/></a>"
      ]
    },
    {
      "cell_type": "code",
      "execution_count": null,
      "metadata": {
        "colab": {
          "base_uri": "https://localhost:8080/"
        },
        "id": "9jzPRc0P9btv",
        "outputId": "0eb885ff-d05e-4858-c8d7-4bf3c0763565"
      },
      "outputs": [
        {
          "output_type": "stream",
          "name": "stdout",
          "text": [
            "Program 1\n",
            "The Sum Of 1.5 and 6.3 is 7.8\n",
            "Program 2\n",
            "Enter First Number : 55\n",
            "Enter Second Number : 44\n",
            "The Sum Of 55 And 44 is 99.0\n",
            "Program 3\n",
            "Thye Square Root Of 8.000 is 2.828\n",
            "Program 4\n",
            "The Square Root Of (1+2j) is 1.272+0.786j\n",
            "Program 5\n",
            "The Area Of The Traingle Is 14.70\n",
            "Program 6\n",
            "The Value Of X After Swapping : 10\n",
            "The Value Of Y After Swapping : 5\n",
            "Program 7\n",
            "apple.com\n",
            "Program 8\n",
            "apple.com\n",
            "programiz.com\n",
            "Program 9\n",
            "5\n",
            "6\n",
            "hello\n",
            "Program 10\n",
            "Program 11\n",
            "10 100 200 300\n",
            "10.5 150.0\n",
            "3.14j 3.14 0.0\n"
          ]
        }
      ],
      "source": [
        "print(\"Program 1\")\n",
        "num1 = 1.5\n",
        "num2 = 6.3\n",
        "sum = num1+num2\n",
        "print('The Sum Of {0} and {1} is {2}'.format(num1, num2, sum))\n",
        "print(\"Program 2\")\n",
        "num1 = input('Enter First Number : ')\n",
        "num2 = input('Enter Second Number : ')\n",
        "sum = float(num1)+float(num2)\n",
        "print('The Sum Of {0} And {1} is {2}'.format(num1,num2,sum))\n",
        "print(\"Program 3\")\n",
        "num = 8\n",
        "num_sqrt = num ** 0.5\n",
        "print('Thye Square Root Of %0.3f is %0.3f'%(num , num_sqrt))\n",
        "print(\"Program 4\")\n",
        "import cmath\n",
        "num = 1+2j\n",
        "num_sqrt = cmath.sqrt(num)\n",
        "print('The Square Root Of {0} is {1:0.3f}+{2:0.3f}j'.format(num,num_sqrt.real,num_sqrt.imag))\n",
        "print(\"Program 5\")\n",
        "a = 5\n",
        "b = 6\n",
        "c = 7\n",
        "s = (a+b+c) / 2\n",
        "area = (s*(s-a)*(s-b)*(s-c)) ** 0.5\n",
        "print(\"The Area Of The Traingle Is %0.2f\" %area)\n",
        "print(\"Program 6\")\n",
        "x = 5\n",
        "y = 10\n",
        "temp = x\n",
        "x = y\n",
        "y = temp\n",
        "print(\"The Value Of X After Swapping : {}\".format(x))\n",
        "print(\"The Value Of Y After Swapping : {}\".format(y))\n",
        "print(\"Program 7\")\n",
        "website = \"apple.com\"\n",
        "print(website)\n",
        "print(\"Program 8\")\n",
        "website = \"apple.com\"\n",
        "print(website)\n",
        "website = \"programiz.com\"\n",
        "print(website)\n",
        "print(\"Program 9\")\n",
        "a, b, c = 5, 6, \"hello\"\n",
        "print (a)\n",
        "print (b)\n",
        "print (c)\n",
        "print(\"Program 10\")\n",
        "a = 0b1010\n",
        "b = 100\n",
        "c = 0o310\n",
        "d = 0x12c\n",
        "print(\"Program 11\")\n",
        "float_1 = 10.5\n",
        "float_2 = 1.5e2\n",
        "x = 3.14j\n",
        "print(a, b, c, d)\n",
        "print(float_1, float_2)\n",
        "print(x, x.imag, x.real)\n",
        "\n"
      ]
    }
  ]
}